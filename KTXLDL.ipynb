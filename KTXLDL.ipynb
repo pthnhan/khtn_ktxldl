{
  "nbformat": 4,
  "nbformat_minor": 0,
  "metadata": {
    "colab": {
      "name": "KTXLDL.ipynb",
      "provenance": [],
      "include_colab_link": true
    },
    "kernelspec": {
      "name": "python3",
      "display_name": "Python 3"
    },
    "language_info": {
      "name": "python"
    }
  },
  "cells": [
    {
      "cell_type": "markdown",
      "metadata": {
        "id": "view-in-github",
        "colab_type": "text"
      },
      "source": [
        "<a href=\"https://colab.research.google.com/github/pthnhan/khtn_ktxldl/blob/main/KTXLDL.ipynb\" target=\"_parent\"><img src=\"https://colab.research.google.com/assets/colab-badge.svg\" alt=\"Open In Colab\"/></a>"
      ]
    },
    {
      "cell_type": "code",
      "metadata": {
        "colab": {
          "base_uri": "https://localhost:8080/"
        },
        "id": "S663eR20w6k5",
        "outputId": "b6b1b071-32eb-4ec7-df25-5112553fa138"
      },
      "source": [
        "!pip install https://github.com/pthnhan/khtn_ktxldl/blob/main/package/dist/youtube_tools-0.0.2-py2.py3-none-any.whl?raw=True\n",
        "!pip install python-dotenv"
      ],
      "execution_count": 1,
      "outputs": [
        {
          "output_type": "stream",
          "name": "stdout",
          "text": [
            "Collecting youtube-tools==0.0.2\n",
            "  Downloading https://github.com/pthnhan/khtn_ktxldl/blob/main/package/dist/youtube_tools-0.0.2-py2.py3-none-any.whl?raw=True (7.2 kB)\n",
            "Installing collected packages: youtube-tools\n",
            "Successfully installed youtube-tools-0.0.2\n",
            "Collecting python-dotenv\n",
            "  Downloading python_dotenv-0.19.2-py2.py3-none-any.whl (17 kB)\n",
            "Installing collected packages: python-dotenv\n",
            "Successfully installed python-dotenv-0.19.2\n"
          ]
        }
      ]
    },
    {
      "cell_type": "code",
      "metadata": {
        "colab": {
          "base_uri": "https://localhost:8080/"
        },
        "id": "9XXVkY4r0g6E",
        "outputId": "d5210bbe-eb4b-434a-9c1a-68507026bf8e"
      },
      "source": [
        "import os\n",
        "import sys\n",
        "from youtube_tools.utils.db_requestor import DBRequestor\n",
        "from youtube_tools.ytb_trending.get_data import process_data\n",
        "from sqlalchemy import create_engine\n",
        "from datetime import datetime\n",
        "\n",
        "sys.path.append(os.getcwd())\n",
        "try:\n",
        "    from youtube_tools import setting\n",
        "except:\n",
        "    print(\"No 'settings.py' file in \", os.getcwd())\n",
        "\n",
        "from youtube_tools.utils.logger import setup_logger\n",
        "t = datetime.now()\n",
        "log = setup_logger(\"info_data_youtube_trending\",\n",
        "                   \"/content/{}_{}_{}_ytb_trending.txt\".format(t.year, t.month, t.day),\n",
        "                   mode='a+')"
      ],
      "execution_count": null,
      "outputs": [
        {
          "output_type": "stream",
          "name": "stderr",
          "text": [
            "/usr/local/lib/python3.7/dist-packages/psycopg2/__init__.py:144: UserWarning: The psycopg2 wheel package will be renamed from release 2.8; in order to keep installing from binary please use \"pip install psycopg2-binary\" instead. For details see: <http://initd.org/psycopg/docs/install.html#binary-install-from-pypi>.\n",
            "  \"\"\")\n"
          ]
        },
        {
          "output_type": "stream",
          "name": "stdout",
          "text": [
            "/content/.env\n"
          ]
        }
      ]
    },
    {
      "cell_type": "code",
      "metadata": {
        "id": "6QvGITssxgGL"
      },
      "source": [
        "database = 'youtube'\n",
        "username = os.getenv('USERNAME')\n",
        "password = os.getenv('PASSWORD')\n",
        "host = os.getenv('HOST')\n",
        "port = os.getenv('PORT')\n",
        "engine = create_engine('postgresql://{}:{}@{}:5432/{}'.format(username, password, host, database))"
      ],
      "execution_count": null,
      "outputs": []
    },
    {
      "cell_type": "code",
      "metadata": {
        "id": "41AHmtIS01RM"
      },
      "source": [
        "# country_codes = ['VN']\n",
        "a = DBRequestor()\n",
        "a.get_info_db(database=database, user=username, password=password, host=host, port=port)\n",
        "df_country_codes = a.get_df_by_query(\"select * from country_list\")\n",
        "country_codes = df_country_codes.country_code"
      ],
      "execution_count": null,
      "outputs": []
    },
    {
      "cell_type": "code",
      "metadata": {
        "id": "NP2UwpZ-1Or6"
      },
      "source": [
        "api_key = os.getenv('API_KEY')\n",
        "trending_data = process_data(country_codes, api_key, log)\n",
        "trending_data.to_sql('test_table',\n",
        "                      con=engine,\n",
        "                      if_exists='replace',\n",
        "                      index=False,\n",
        "                      method='multi'\n",
        "                      )\n",
        "log.info(\"COMPLETED! SAVED DATA TO DATABASE!\")"
      ],
      "execution_count": null,
      "outputs": []
    }
  ]
}